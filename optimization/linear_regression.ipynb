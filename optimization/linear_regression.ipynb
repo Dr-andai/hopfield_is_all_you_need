{
 "cells": [
  {
   "cell_type": "markdown",
   "id": "fa173f51",
   "metadata": {},
   "source": [
    "Approaching optimization in a linear regression model  \n",
    "The optimization goal is to find parameters that minimize the Mean Squared Error (MSE) loss  \n",
    "\n",
    "* Goal: MinL(w, b)  \n",
    "\n",
    "Analytical (closed-formm) solution  \n",
    "w=(XTX)−1XTy\n",
    "\n",
    "Numerical (iterative) optimization - because of huge datasets, regularization terms. use gradient based optimization"
   ]
  },
  {
   "cell_type": "code",
   "execution_count": null,
   "id": "f376da83",
   "metadata": {},
   "outputs": [
    {
     "name": "stdout",
     "output_type": "stream",
     "text": [
      "Optimized weights: [ 1.98678917 -1.00814136  0.48887382]\n",
      "Optimized bias: 0.9932611969247721\n"
     ]
    }
   ],
   "source": [
    "import numpy as np\n",
    "\n",
    "# Data\n",
    "X = np.random.randn(100, 3)\n",
    "y = X @ np.array([2, -1, 0.5]) + 1.0 + 0.1 * np.random.randn(100)\n",
    "\n",
    "\"\"\"\n",
    "`The true model` data is\n",
    "y= 2x1​−1x2​+0.5x3​+1+noise\n",
    "\n",
    "\"\"\"\n",
    "\n",
    "# Initialize params\n",
    "w = np.zeros(3)\n",
    "b = 0.0\n",
    "lr = 0.01\n",
    "\n",
    "# Gradient Descent\n",
    "for epoch in range(1000):\n",
    "    y_pred = X @ w + b\n",
    "    loss = np.mean((y_pred - y)**2)\n",
    "    grad_w = (2 / len(y)) * X.T @ (y_pred - y)\n",
    "    grad_b = (2 / len(y)) * np.sum(y_pred - y)\n",
    "    w -= lr * grad_w\n",
    "    b -= lr * grad_b\n",
    "\n",
    "\"\"\"\n",
    "- grad_w is the gradient of loss wrt weights ∇𝑤𝐿\n",
    "- grad_b is the gradient wrt bias ∇𝑏𝐿\n",
    "\n",
    "\"\"\"\n",
    "\n",
    "print(\"Optimized weights:\", w)\n",
    "print(\"Optimized bias:\", b)\n"
   ]
  },
  {
   "cell_type": "markdown",
   "id": "bc3b7942",
   "metadata": {},
   "source": [
    "Regularization  \n",
    "L2 Regularization (Ridge Regression): Adds a penalty proportional to the square of the weights. Discourages large weight values.  \n",
    "L1 Regularization (Lasso Regression): Adds a penalty to the absolute value of the weights. Lasso automatically drops irrelevant features by setting their weights to 0."
   ]
  }
 ],
 "metadata": {
  "kernelspec": {
   "display_name": "hopfield-is-all-you-need",
   "language": "python",
   "name": "python3"
  },
  "language_info": {
   "codemirror_mode": {
    "name": "ipython",
    "version": 3
   },
   "file_extension": ".py",
   "mimetype": "text/x-python",
   "name": "python",
   "nbconvert_exporter": "python",
   "pygments_lexer": "ipython3",
   "version": "3.13.3"
  }
 },
 "nbformat": 4,
 "nbformat_minor": 5
}
