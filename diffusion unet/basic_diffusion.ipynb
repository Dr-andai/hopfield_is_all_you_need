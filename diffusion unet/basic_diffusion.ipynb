{
 "cells": [
  {
   "cell_type": "markdown",
   "id": "3a99fa8a",
   "metadata": {},
   "source": [
    "# Implementing a basic diffusion model\n",
    "Forming basics of physics and ML"
   ]
  },
  {
   "cell_type": "code",
   "execution_count": 1,
   "id": "44c63192",
   "metadata": {},
   "outputs": [],
   "source": [
    "import torch\n",
    "import torch.nn as nn\n",
    "import torch.nn.functional as F\n",
    "import matplotlib.pyplot as plt"
   ]
  },
  {
   "cell_type": "code",
   "execution_count": 2,
   "id": "0559a30d",
   "metadata": {},
   "outputs": [],
   "source": [
    "## Forward diffusion process\n",
    "def linear_beta_schedule(timesteps, start = 1e-4, end = 0.02):\n",
    "    return torch.linspace(start, end, timesteps)\n",
    "\n",
    "timesteps = 200\n",
    "betas = linear_beta_schedule(timesteps)\n",
    "alphas = 1.0 - betas\n",
    "alpha_hat = torch.cumprod(alphas, dim=0)"
   ]
  },
  {
   "cell_type": "code",
   "execution_count": 4,
   "id": "809e384e",
   "metadata": {},
   "outputs": [
    {
     "data": {
      "image/png": "[encoded data removed]",
      "text/plain": [
       "<Figure size 1500x300 with 5 Axes>"
      ]
     },
     "metadata": {},
     "output_type": "display_data"
    }
   ],
   "source": [
    "def forward_diffusion_sample(x0, t):\n",
    "    sqrt_alpha_hat = torch.sqrt(alpha_hat[t])\n",
    "    sqrt_one_minus_alpha_hat = torch.sqrt(1-alpha_hat[t])\n",
    "    eps = torch.randn_like(x0)\n",
    "    return sqrt_alpha_hat * x0 + sqrt_one_minus_alpha_hat * eps, eps\n",
    "\n",
    "x0 = torch.rand((1, 1, 28, 28))\n",
    "fig, axes = plt.subplots(1, 5, figsize=(15, 3))\n",
    "for idx, step in enumerate([0, 50, 100, 150, 199]):\n",
    "    noisy_img, _ = forward_diffusion_sample(x0, step)\n",
    "    axes[idx].imshow(noisy_img.squeeze().detach().numpy(), cmap=\"gray\")\n",
    "    axes[idx].set_title(f\"Step {step}\")\n",
    "    axes[idx].axis(\"off\")\n",
    "plt.show()"
   ]
  },
  {
   "cell_type": "code",
   "execution_count": 6,
   "id": "56b76efb",
   "metadata": {},
   "outputs": [
    {
     "name": "stdout",
     "output_type": "stream",
     "text": [
      "UNet output shape: torch.Size([1, 1, 28, 28])\n"
     ]
    }
   ],
   "source": [
    "# Basic UNet for denosing\n",
    "class DoubleConv(nn.Module):\n",
    "    def __init__(self, in_channels, out_channels):\n",
    "        super().__init__()\n",
    "        self.net = nn.Sequential(\n",
    "            nn.Conv2d(in_channels, out_channels, 3, padding=1),\n",
    "            nn.ReLU(),\n",
    "            nn.Conv2d(out_channels, out_channels, 3, padding=1),\n",
    "            nn.ReLU(),\n",
    "        )\n",
    "    def forward(self, x):\n",
    "        return self.net(x)\n",
    "\n",
    "class UNet(nn.Module):\n",
    "    def __init__(self):\n",
    "        super().__init__()\n",
    "        # Encoder\n",
    "        self.down1 = DoubleConv(1, 32)\n",
    "        self.down2 = DoubleConv(32, 64)\n",
    "        self.pool = nn.MaxPool2d(2)\n",
    "        \n",
    "        # Bottleneck\n",
    "        self.bottleneck = DoubleConv(64, 128)\n",
    "\n",
    "        # Decoder\n",
    "        self.up = nn.Upsample(scale_factor=2, mode=\"nearest\")\n",
    "        self.up_conv1 = DoubleConv(128, 64)\n",
    "        self.up_conv2 = DoubleConv(64, 32)\n",
    "        self.final = nn.Conv2d(32, 1, 1)\n",
    "\n",
    "    def forward(self, x):\n",
    "        # Encoder\n",
    "        x1 = self.down1(x)\n",
    "        x2 = self.pool(x1)\n",
    "        x2 = self.down2(x2)\n",
    "\n",
    "        # Bottleneck\n",
    "        x3 = self.pool(x2)\n",
    "        x3 = self.bottleneck(x3)\n",
    "\n",
    "        # Decoder\n",
    "        x = self.up(x3)\n",
    "        x = self.up_conv1(x)\n",
    "        x = self.up(x)\n",
    "        x = self.up_conv2(x)\n",
    "        return self.final(x)\n",
    "    \n",
    "# create model\n",
    "model = UNet()\n",
    "x = torch.randn(1, 1, 28, 28)\n",
    "print(\"UNet output shape:\", model(x).shape)\n"
   ]
  },
  {
   "cell_type": "code",
   "execution_count": 7,
   "id": "65102552",
   "metadata": {},
   "outputs": [
    {
     "name": "stdout",
     "output_type": "stream",
     "text": [
      "Epoch 1, Step 196, Loss: 1.0141\n",
      "Epoch 2, Step 138, Loss: 0.9946\n",
      "Epoch 3, Step 106, Loss: 0.9931\n"
     ]
    }
   ],
   "source": [
    "def get_loss(model, x0, t):\n",
    "    \"\"\"Loss: predict noise added at step t.\"\"\"\n",
    "    x_noisy, noise = forward_diffusion_sample(x0, t)\n",
    "    noise_pred = model(x_noisy)\n",
    "    return F.mse_loss(noise_pred, noise)\n",
    "\n",
    "\n",
    "# Dummy training setup\n",
    "model = UNet()\n",
    "optimizer = torch.optim.Adam(model.parameters(), lr=1e-3)\n",
    "\n",
    "\n",
    "# Fake dataset: random tensors\n",
    "images = torch.rand((16, 1, 28, 28))\n",
    "\n",
    "\n",
    "for epoch in range(3):\n",
    "    optimizer.zero_grad()\n",
    "    t = torch.randint(0, timesteps, (1,)).item() # random timestep\n",
    "    loss = get_loss(model, images, t)\n",
    "    loss.backward()\n",
    "    optimizer.step()\n",
    "    print(f\"Epoch {epoch+1}, Step {t}, Loss: {loss.item():.4f}\")"
   ]
  }
 ],
 "metadata": {
  "kernelspec": {
   "display_name": "hopfield-is-all-you-need",
   "language": "python",
   "name": "python3"
  },
  "language_info": {
   "codemirror_mode": {
    "name": "ipython",
    "version": 3
   },
   "file_extension": ".py",
   "mimetype": "text/x-python",
   "name": "python",
   "nbconvert_exporter": "python",
   "pygments_lexer": "ipython3",
   "version": "3.13.3"
  }
 },
 "nbformat": 4,
 "nbformat_minor": 5
}
